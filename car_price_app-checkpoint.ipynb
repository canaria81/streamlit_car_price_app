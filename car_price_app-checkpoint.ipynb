{
 "cells": [
  {
   "cell_type": "code",
   "execution_count": 1,
   "id": "9c67bea7",
   "metadata": {},
   "outputs": [],
   "source": [
    "import pandas as pd\n",
    "import numpy as np\n",
    "import matplotlib.pyplot as plt\n",
    "import seaborn as sb"
   ]
  },
  {
   "cell_type": "code",
   "execution_count": 3,
   "id": "ecdac7be",
   "metadata": {},
   "outputs": [],
   "source": [
    "df=pd.read_csv('data/Car_Purchasing_Data.csv',encoding= 'ISO-8859-1')"
   ]
  },
  {
   "cell_type": "code",
   "execution_count": 4,
   "id": "caea62ca",
   "metadata": {},
   "outputs": [
    {
     "data": {
      "text/html": [
       "<div>\n",
       "<style scoped>\n",
       "    .dataframe tbody tr th:only-of-type {\n",
       "        vertical-align: middle;\n",
       "    }\n",
       "\n",
       "    .dataframe tbody tr th {\n",
       "        vertical-align: top;\n",
       "    }\n",
       "\n",
       "    .dataframe thead th {\n",
       "        text-align: right;\n",
       "    }\n",
       "</style>\n",
       "<table border=\"1\" class=\"dataframe\">\n",
       "  <thead>\n",
       "    <tr style=\"text-align: right;\">\n",
       "      <th></th>\n",
       "      <th>Gender</th>\n",
       "      <th>Age</th>\n",
       "      <th>Annual Salary</th>\n",
       "      <th>Credit Card Debt</th>\n",
       "      <th>Net Worth</th>\n",
       "      <th>Car Purchase Amount</th>\n",
       "    </tr>\n",
       "  </thead>\n",
       "  <tbody>\n",
       "    <tr>\n",
       "      <th>count</th>\n",
       "      <td>500.000000</td>\n",
       "      <td>500.000000</td>\n",
       "      <td>500.000000</td>\n",
       "      <td>500.000000</td>\n",
       "      <td>500.000000</td>\n",
       "      <td>500.000000</td>\n",
       "    </tr>\n",
       "    <tr>\n",
       "      <th>mean</th>\n",
       "      <td>0.506000</td>\n",
       "      <td>46.241674</td>\n",
       "      <td>62127.239608</td>\n",
       "      <td>9607.645049</td>\n",
       "      <td>431475.713625</td>\n",
       "      <td>44209.799218</td>\n",
       "    </tr>\n",
       "    <tr>\n",
       "      <th>std</th>\n",
       "      <td>0.500465</td>\n",
       "      <td>7.978862</td>\n",
       "      <td>11703.378228</td>\n",
       "      <td>3489.187973</td>\n",
       "      <td>173536.756340</td>\n",
       "      <td>10773.178744</td>\n",
       "    </tr>\n",
       "    <tr>\n",
       "      <th>min</th>\n",
       "      <td>0.000000</td>\n",
       "      <td>20.000000</td>\n",
       "      <td>20000.000000</td>\n",
       "      <td>100.000000</td>\n",
       "      <td>20000.000000</td>\n",
       "      <td>9000.000000</td>\n",
       "    </tr>\n",
       "    <tr>\n",
       "      <th>25%</th>\n",
       "      <td>0.000000</td>\n",
       "      <td>40.949969</td>\n",
       "      <td>54391.977195</td>\n",
       "      <td>7397.515792</td>\n",
       "      <td>299824.195900</td>\n",
       "      <td>37629.896040</td>\n",
       "    </tr>\n",
       "    <tr>\n",
       "      <th>50%</th>\n",
       "      <td>1.000000</td>\n",
       "      <td>46.049901</td>\n",
       "      <td>62915.497035</td>\n",
       "      <td>9655.035568</td>\n",
       "      <td>426750.120650</td>\n",
       "      <td>43997.783390</td>\n",
       "    </tr>\n",
       "    <tr>\n",
       "      <th>75%</th>\n",
       "      <td>1.000000</td>\n",
       "      <td>51.612263</td>\n",
       "      <td>70117.862005</td>\n",
       "      <td>11798.867487</td>\n",
       "      <td>557324.478725</td>\n",
       "      <td>51254.709517</td>\n",
       "    </tr>\n",
       "    <tr>\n",
       "      <th>max</th>\n",
       "      <td>1.000000</td>\n",
       "      <td>70.000000</td>\n",
       "      <td>100000.000000</td>\n",
       "      <td>20000.000000</td>\n",
       "      <td>1000000.000000</td>\n",
       "      <td>80000.000000</td>\n",
       "    </tr>\n",
       "  </tbody>\n",
       "</table>\n",
       "</div>"
      ],
      "text/plain": [
       "           Gender         Age  Annual Salary  Credit Card Debt  \\\n",
       "count  500.000000  500.000000     500.000000        500.000000   \n",
       "mean     0.506000   46.241674   62127.239608       9607.645049   \n",
       "std      0.500465    7.978862   11703.378228       3489.187973   \n",
       "min      0.000000   20.000000   20000.000000        100.000000   \n",
       "25%      0.000000   40.949969   54391.977195       7397.515792   \n",
       "50%      1.000000   46.049901   62915.497035       9655.035568   \n",
       "75%      1.000000   51.612263   70117.862005      11798.867487   \n",
       "max      1.000000   70.000000  100000.000000      20000.000000   \n",
       "\n",
       "            Net Worth  Car Purchase Amount  \n",
       "count      500.000000           500.000000  \n",
       "mean    431475.713625         44209.799218  \n",
       "std     173536.756340         10773.178744  \n",
       "min      20000.000000          9000.000000  \n",
       "25%     299824.195900         37629.896040  \n",
       "50%     426750.120650         43997.783390  \n",
       "75%     557324.478725         51254.709517  \n",
       "max    1000000.000000         80000.000000  "
      ]
     },
     "execution_count": 4,
     "metadata": {},
     "output_type": "execute_result"
    }
   ],
   "source": [
    "df.describe()"
   ]
  },
  {
   "cell_type": "code",
   "execution_count": null,
   "id": "7652b1bf",
   "metadata": {},
   "outputs": [],
   "source": [
    "# 연봉이 가장 적은 사람의 데이터를 확인"
   ]
  },
  {
   "cell_type": "code",
   "execution_count": 9,
   "id": "6a5c9485",
   "metadata": {},
   "outputs": [
    {
     "data": {
      "text/html": [
       "<div>\n",
       "<style scoped>\n",
       "    .dataframe tbody tr th:only-of-type {\n",
       "        vertical-align: middle;\n",
       "    }\n",
       "\n",
       "    .dataframe tbody tr th {\n",
       "        vertical-align: top;\n",
       "    }\n",
       "\n",
       "    .dataframe thead th {\n",
       "        text-align: right;\n",
       "    }\n",
       "</style>\n",
       "<table border=\"1\" class=\"dataframe\">\n",
       "  <thead>\n",
       "    <tr style=\"text-align: right;\">\n",
       "      <th></th>\n",
       "      <th>Customer Name</th>\n",
       "      <th>Customer e-mail</th>\n",
       "      <th>Country</th>\n",
       "      <th>Gender</th>\n",
       "      <th>Age</th>\n",
       "      <th>Annual Salary</th>\n",
       "      <th>Credit Card Debt</th>\n",
       "      <th>Net Worth</th>\n",
       "      <th>Car Purchase Amount</th>\n",
       "    </tr>\n",
       "  </thead>\n",
       "  <tbody>\n",
       "    <tr>\n",
       "      <th>89</th>\n",
       "      <td>Ferdinand Weber</td>\n",
       "      <td>metus.Vivamus@vitaeposuere.org</td>\n",
       "      <td>Suriname</td>\n",
       "      <td>1</td>\n",
       "      <td>32.094081</td>\n",
       "      <td>20000.0</td>\n",
       "      <td>14261.80773</td>\n",
       "      <td>579181.6552</td>\n",
       "      <td>12895.71468</td>\n",
       "    </tr>\n",
       "  </tbody>\n",
       "</table>\n",
       "</div>"
      ],
      "text/plain": [
       "      Customer Name                 Customer e-mail   Country  Gender  \\\n",
       "89  Ferdinand Weber  metus.Vivamus@vitaeposuere.org  Suriname       1   \n",
       "\n",
       "          Age  Annual Salary  Credit Card Debt    Net Worth  \\\n",
       "89  32.094081        20000.0       14261.80773  579181.6552   \n",
       "\n",
       "    Car Purchase Amount  \n",
       "89          12895.71468  "
      ]
     },
     "execution_count": 9,
     "metadata": {},
     "output_type": "execute_result"
    }
   ],
   "source": [
    "df.loc[df['Annual Salary']== df['Annual Salary'].min(),]"
   ]
  },
  {
   "cell_type": "code",
   "execution_count": 7,
   "id": "5e534df8",
   "metadata": {},
   "outputs": [
    {
     "data": {
      "text/plain": [
       "20000.0"
      ]
     },
     "execution_count": 7,
     "metadata": {},
     "output_type": "execute_result"
    }
   ],
   "source": [
    "df['Annual Salary'].min()"
   ]
  },
  {
   "cell_type": "code",
   "execution_count": null,
   "id": "e43568c5",
   "metadata": {},
   "outputs": [],
   "source": [
    "# 연봉이 가장 높은 사람의 데이터를 확인"
   ]
  },
  {
   "cell_type": "code",
   "execution_count": 8,
   "id": "d2b236b5",
   "metadata": {},
   "outputs": [
    {
     "data": {
      "text/plain": [
       "100000.0"
      ]
     },
     "execution_count": 8,
     "metadata": {},
     "output_type": "execute_result"
    }
   ],
   "source": [
    "df['Annual Salary'].max()"
   ]
  },
  {
   "cell_type": "code",
   "execution_count": 10,
   "id": "71045dcb",
   "metadata": {},
   "outputs": [
    {
     "data": {
      "text/html": [
       "<div>\n",
       "<style scoped>\n",
       "    .dataframe tbody tr th:only-of-type {\n",
       "        vertical-align: middle;\n",
       "    }\n",
       "\n",
       "    .dataframe tbody tr th {\n",
       "        vertical-align: top;\n",
       "    }\n",
       "\n",
       "    .dataframe thead th {\n",
       "        text-align: right;\n",
       "    }\n",
       "</style>\n",
       "<table border=\"1\" class=\"dataframe\">\n",
       "  <thead>\n",
       "    <tr style=\"text-align: right;\">\n",
       "      <th></th>\n",
       "      <th>Customer Name</th>\n",
       "      <th>Customer e-mail</th>\n",
       "      <th>Country</th>\n",
       "      <th>Gender</th>\n",
       "      <th>Age</th>\n",
       "      <th>Annual Salary</th>\n",
       "      <th>Credit Card Debt</th>\n",
       "      <th>Net Worth</th>\n",
       "      <th>Car Purchase Amount</th>\n",
       "    </tr>\n",
       "  </thead>\n",
       "  <tbody>\n",
       "    <tr>\n",
       "      <th>28</th>\n",
       "      <td>Gemma Hendrix</td>\n",
       "      <td>lobortis@non.co.uk</td>\n",
       "      <td>Denmark</td>\n",
       "      <td>1</td>\n",
       "      <td>46.124036</td>\n",
       "      <td>100000.0</td>\n",
       "      <td>17452.92179</td>\n",
       "      <td>188032.0778</td>\n",
       "      <td>58350.31809</td>\n",
       "    </tr>\n",
       "  </tbody>\n",
       "</table>\n",
       "</div>"
      ],
      "text/plain": [
       "    Customer Name     Customer e-mail  Country  Gender        Age  \\\n",
       "28  Gemma Hendrix  lobortis@non.co.uk  Denmark       1  46.124036   \n",
       "\n",
       "    Annual Salary  Credit Card Debt    Net Worth  Car Purchase Amount  \n",
       "28       100000.0       17452.92179  188032.0778          58350.31809  "
      ]
     },
     "execution_count": 10,
     "metadata": {},
     "output_type": "execute_result"
    }
   ],
   "source": [
    "df.loc[df['Annual Salary']== df['Annual Salary'].max(),]"
   ]
  },
  {
   "cell_type": "code",
   "execution_count": 11,
   "id": "a5c659a6",
   "metadata": {},
   "outputs": [
    {
     "data": {
      "text/html": [
       "<div>\n",
       "<style scoped>\n",
       "    .dataframe tbody tr th:only-of-type {\n",
       "        vertical-align: middle;\n",
       "    }\n",
       "\n",
       "    .dataframe tbody tr th {\n",
       "        vertical-align: top;\n",
       "    }\n",
       "\n",
       "    .dataframe thead th {\n",
       "        text-align: right;\n",
       "    }\n",
       "</style>\n",
       "<table border=\"1\" class=\"dataframe\">\n",
       "  <thead>\n",
       "    <tr style=\"text-align: right;\">\n",
       "      <th></th>\n",
       "      <th>Customer Name</th>\n",
       "      <th>Customer e-mail</th>\n",
       "      <th>Country</th>\n",
       "      <th>Gender</th>\n",
       "      <th>Age</th>\n",
       "      <th>Annual Salary</th>\n",
       "      <th>Credit Card Debt</th>\n",
       "      <th>Net Worth</th>\n",
       "      <th>Car Purchase Amount</th>\n",
       "    </tr>\n",
       "  </thead>\n",
       "  <tbody>\n",
       "    <tr>\n",
       "      <th>0</th>\n",
       "      <td>Martina Avila</td>\n",
       "      <td>cubilia.Curae.Phasellus@quisaccumsanconvallis.edu</td>\n",
       "      <td>Bulgaria</td>\n",
       "      <td>0</td>\n",
       "      <td>41.851720</td>\n",
       "      <td>62812.09301</td>\n",
       "      <td>11609.380910</td>\n",
       "      <td>238961.2505</td>\n",
       "      <td>35321.45877</td>\n",
       "    </tr>\n",
       "    <tr>\n",
       "      <th>1</th>\n",
       "      <td>Harlan Barnes</td>\n",
       "      <td>eu.dolor@diam.co.uk</td>\n",
       "      <td>Belize</td>\n",
       "      <td>0</td>\n",
       "      <td>40.870623</td>\n",
       "      <td>66646.89292</td>\n",
       "      <td>9572.957136</td>\n",
       "      <td>530973.9078</td>\n",
       "      <td>45115.52566</td>\n",
       "    </tr>\n",
       "    <tr>\n",
       "      <th>2</th>\n",
       "      <td>Naomi Rodriquez</td>\n",
       "      <td>vulputate.mauris.sagittis@ametconsectetueradip...</td>\n",
       "      <td>Algeria</td>\n",
       "      <td>1</td>\n",
       "      <td>43.152897</td>\n",
       "      <td>53798.55112</td>\n",
       "      <td>11160.355060</td>\n",
       "      <td>638467.1773</td>\n",
       "      <td>42925.70921</td>\n",
       "    </tr>\n",
       "  </tbody>\n",
       "</table>\n",
       "</div>"
      ],
      "text/plain": [
       "     Customer Name                                    Customer e-mail  \\\n",
       "0    Martina Avila  cubilia.Curae.Phasellus@quisaccumsanconvallis.edu   \n",
       "1    Harlan Barnes                                eu.dolor@diam.co.uk   \n",
       "2  Naomi Rodriquez  vulputate.mauris.sagittis@ametconsectetueradip...   \n",
       "\n",
       "    Country  Gender        Age  Annual Salary  Credit Card Debt    Net Worth  \\\n",
       "0  Bulgaria       0  41.851720    62812.09301      11609.380910  238961.2505   \n",
       "1    Belize       0  40.870623    66646.89292       9572.957136  530973.9078   \n",
       "2   Algeria       1  43.152897    53798.55112      11160.355060  638467.1773   \n",
       "\n",
       "   Car Purchase Amount  \n",
       "0          35321.45877  \n",
       "1          45115.52566  \n",
       "2          42925.70921  "
      ]
     },
     "execution_count": 11,
     "metadata": {},
     "output_type": "execute_result"
    }
   ],
   "source": [
    "df.head(3)"
   ]
  },
  {
   "cell_type": "code",
   "execution_count": 13,
   "id": "99d50686",
   "metadata": {},
   "outputs": [
    {
     "data": {
      "text/plain": [
       "211"
      ]
     },
     "execution_count": 13,
     "metadata": {},
     "output_type": "execute_result"
    }
   ],
   "source": [
    "df['Country'].nunique()"
   ]
  },
  {
   "cell_type": "code",
   "execution_count": null,
   "id": "f4375c1f",
   "metadata": {},
   "outputs": [],
   "source": [
    "df['Country'].value\n"
   ]
  },
  {
   "cell_type": "code",
   "execution_count": null,
   "id": "b4e3e188",
   "metadata": {},
   "outputs": [],
   "source": [
    "# 남자는 몇명이고, 여자는 몇명인가\n",
    "sb.countplot(data=df)"
   ]
  },
  {
   "cell_type": "code",
   "execution_count": 15,
   "id": "41da62f0",
   "metadata": {},
   "outputs": [
    {
     "data": {
      "image/png": "[encoded data removed]",
      "text/plain": [
       "<Figure size 640x480 with 1 Axes>"
      ]
     },
     "metadata": {},
     "output_type": "display_data"
    }
   ],
   "source": [
    "# 히스토그램\n",
    "df['Age'].hist()\n",
    "plt.show()"
   ]
  },
  {
   "cell_type": "code",
   "execution_count": null,
   "id": "7513b45a",
   "metadata": {},
   "outputs": [],
   "source": []
  },
  {
   "cell_type": "code",
   "execution_count": null,
   "id": "a90577f0",
   "metadata": {},
   "outputs": [],
   "source": []
  },
  {
   "cell_type": "code",
   "execution_count": null,
   "id": "bd03bad6",
   "metadata": {},
   "outputs": [],
   "source": []
  }
 ],
 "metadata": {
  "kernelspec": {
   "display_name": "Python 3 (ipykernel)",
   "language": "python",
   "name": "python3"
  },
  "language_info": {
   "codemirror_mode": {
    "name": "ipython",
    "version": 3
   },
   "file_extension": ".py",
   "mimetype": "text/x-python",
   "name": "python",
   "nbconvert_exporter": "python",
   "pygments_lexer": "ipython3",
   "version": "3.8.15"
  }
 },
 "nbformat": 4,
 "nbformat_minor": 5
}
